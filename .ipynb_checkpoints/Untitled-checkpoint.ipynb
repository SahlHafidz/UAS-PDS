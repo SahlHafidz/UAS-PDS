{
 "cells": [
  {
   "cell_type": "markdown",
   "id": "34e3681c-2ad1-408c-a2fc-2ba2cebbfa23",
   "metadata": {},
   "source": [
    "# tugas uas"
   ]
  },
  {
   "cell_type": "code",
   "execution_count": null,
   "id": "b5af4c39-8df9-4970-b2a8-3c7826d87924",
   "metadata": {},
   "outputs": [],
   "source": []
  }
 ],
 "metadata": {
  "kernelspec": {
   "display_name": "Python 3 (ipykernel)",
   "language": "python",
   "name": "python3"
  },
  "language_info": {
   "codemirror_mode": {
    "name": "ipython",
    "version": 3
   },
   "file_extension": ".py",
   "mimetype": "text/x-python",
   "name": "python",
   "nbconvert_exporter": "python",
   "pygments_lexer": "ipython3",
   "version": "3.12.0"
  }
 },
 "nbformat": 4,
 "nbformat_minor": 5
}
